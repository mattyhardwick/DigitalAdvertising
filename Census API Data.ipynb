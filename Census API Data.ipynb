{
 "cells": [
  {
   "cell_type": "markdown",
   "metadata": {},
   "source": [
    "# Census API Data\n",
    "## Using CensusReporter data to market to target audiences\n",
    "### Homework for Digital Advertising"
   ]
  },
  {
   "cell_type": "code",
   "execution_count": 21,
   "metadata": {},
   "outputs": [
    {
     "data": {
      "text/html": [
       "<div>\n",
       "<style scoped>\n",
       "    .dataframe tbody tr th:only-of-type {\n",
       "        vertical-align: middle;\n",
       "    }\n",
       "\n",
       "    .dataframe tbody tr th {\n",
       "        vertical-align: top;\n",
       "    }\n",
       "\n",
       "    .dataframe thead th {\n",
       "        text-align: right;\n",
       "    }\n",
       "</style>\n",
       "<table border=\"1\" class=\"dataframe\">\n",
       "  <thead>\n",
       "    <tr style=\"text-align: right;\">\n",
       "      <th></th>\n",
       "      <th>CBSA</th>\n",
       "      <th>NAME</th>\n",
       "      <th>POPESTIMATE2017</th>\n",
       "    </tr>\n",
       "  </thead>\n",
       "  <tbody>\n",
       "    <tr>\n",
       "      <th>0</th>\n",
       "      <td>10180</td>\n",
       "      <td>Abilene, TX</td>\n",
       "      <td>170219</td>\n",
       "    </tr>\n",
       "    <tr>\n",
       "      <th>1</th>\n",
       "      <td>10420</td>\n",
       "      <td>Akron, OH</td>\n",
       "      <td>703505</td>\n",
       "    </tr>\n",
       "    <tr>\n",
       "      <th>2</th>\n",
       "      <td>10500</td>\n",
       "      <td>Albany, GA</td>\n",
       "      <td>151434</td>\n",
       "    </tr>\n",
       "    <tr>\n",
       "      <th>3</th>\n",
       "      <td>10540</td>\n",
       "      <td>Albany, OR</td>\n",
       "      <td>125047</td>\n",
       "    </tr>\n",
       "    <tr>\n",
       "      <th>4</th>\n",
       "      <td>10580</td>\n",
       "      <td>Albany-Schenectady-Troy, NY</td>\n",
       "      <td>886188</td>\n",
       "    </tr>\n",
       "  </tbody>\n",
       "</table>\n",
       "</div>"
      ],
      "text/plain": [
       "    CBSA                         NAME  POPESTIMATE2017\n",
       "0  10180                  Abilene, TX           170219\n",
       "1  10420                    Akron, OH           703505\n",
       "2  10500                   Albany, GA           151434\n",
       "3  10540                   Albany, OR           125047\n",
       "4  10580  Albany-Schenectady-Troy, NY           886188"
      ]
     },
     "execution_count": 21,
     "metadata": {},
     "output_type": "execute_result"
    }
   ],
   "source": [
    "import pandas as pd\n",
    "import json\n",
    "import requests\n",
    "import time\n",
    "\n",
    "df = pd.read_csv( 'msas.csv' )\n",
    "\n",
    "df.head()"
   ]
  },
  {
   "cell_type": "code",
   "execution_count": 7,
   "metadata": {},
   "outputs": [],
   "source": [
    "# get table ids with target information\n",
    "tableids = [ 'B01001', 'B03002', 'B19001' ]\n",
    "\n",
    "# format table ids to be recognized by JSON\n",
    "tableidstring = ','.join(tableids)"
   ]
  },
  {
   "cell_type": "code",
   "execution_count": 8,
   "metadata": {},
   "outputs": [],
   "source": [
    "# create variables\n",
    "geo = 0\n",
    "geoid = []\n",
    "url_list = []"
   ]
  },
  {
   "cell_type": "code",
   "execution_count": 32,
   "metadata": {},
   "outputs": [],
   "source": [
    "# create list of URLs for each geoid\n",
    "for index, row in df.iterrows():\n",
    "    geo = '31000US' + str(df.CBSA[index])\n",
    "    url = 'http://api.censusreporter.org/1.0/data/show/latest?table_ids=%s&geo_ids=%s' % (tableidstring, geo)\n",
    "    url_list.append(url)\n",
    "    geoid.append(geo)"
   ]
  },
  {
   "cell_type": "code",
   "execution_count": 10,
   "metadata": {},
   "outputs": [],
   "source": [
    "# use JSON editor to find target age codes within each table\n",
    "ageids = [ 'B01001007', 'B01001008', 'B01001009', 'B01001010', 'B01001011', 'B01001012',\n",
    "          'B01001031', 'B01001032', 'B01001033', 'B01001034', 'B01001035', 'B01001036' ]"
   ]
  },
  {
   "cell_type": "code",
   "execution_count": 11,
   "metadata": {},
   "outputs": [],
   "source": [
    "# create lists for target data\n",
    "age = []\n",
    "race = []\n",
    "income = []"
   ]
  },
  {
   "cell_type": "code",
   "execution_count": 12,
   "metadata": {},
   "outputs": [],
   "source": [
    "# iterate through each url and return target data\n",
    "for index in url_list:\n",
    "    loadedjson = requests.get(index)\n",
    "    loadedjson.json()\n",
    "    parsedjson = json.loads(loadedjson.text)\n",
    "    # remove from current url\n",
    "    locstr = index[-12:]\n",
    "    # create temporary df for each parameter\n",
    "    agedf = pd.DataFrame.from_dict( parsedjson['data'][locstr]['B01001'] )\n",
    "    racedf = pd.DataFrame.from_dict( parsedjson['data'][locstr]['B03002'] )\n",
    "    incomedf = pd.DataFrame.from_dict( parsedjson['data'][locstr]['B19001'] )\n",
    "    # sum age codes\n",
    "    age_sum = 0\n",
    "    for agepop in ageids:\n",
    "        age_sum = agedf['estimate'][agepop] + age_sum\n",
    "    # append sum to age list\n",
    "    age.append(age_sum)\n",
    "    # append hispanic pop to race list\n",
    "    race.append( racedf['estimate']['B03002012'] )\n",
    "    # append income pop to income list\n",
    "    income.append( incomedf['estimate']['B19001011'] + incomedf['estimate']['B19001012'] )\n",
    "    # use sleep because api overloads\n",
    "    time.sleep(-time.time()%1)"
   ]
  },
  {
   "cell_type": "code",
   "execution_count": 19,
   "metadata": {},
   "outputs": [
    {
     "data": {
      "text/html": [
       "<div>\n",
       "<style scoped>\n",
       "    .dataframe tbody tr th:only-of-type {\n",
       "        vertical-align: middle;\n",
       "    }\n",
       "\n",
       "    .dataframe tbody tr th {\n",
       "        vertical-align: top;\n",
       "    }\n",
       "\n",
       "    .dataframe thead th {\n",
       "        text-align: right;\n",
       "    }\n",
       "</style>\n",
       "<table border=\"1\" class=\"dataframe\">\n",
       "  <thead>\n",
       "    <tr style=\"text-align: right;\">\n",
       "      <th></th>\n",
       "      <th>url</th>\n",
       "      <th>geo</th>\n",
       "      <th>name</th>\n",
       "      <th>age</th>\n",
       "      <th>race</th>\n",
       "      <th>income</th>\n",
       "    </tr>\n",
       "  </thead>\n",
       "  <tbody>\n",
       "    <tr>\n",
       "      <th>0</th>\n",
       "      <td>http://api.censusreporter.org/1.0/data/show/la...</td>\n",
       "      <td>31000US10180</td>\n",
       "      <td>Abilene, TX</td>\n",
       "      <td>47469.0</td>\n",
       "      <td>41291.0</td>\n",
       "      <td>11050.0</td>\n",
       "    </tr>\n",
       "    <tr>\n",
       "      <th>1</th>\n",
       "      <td>http://api.censusreporter.org/1.0/data/show/la...</td>\n",
       "      <td>31000US10420</td>\n",
       "      <td>Akron, OH</td>\n",
       "      <td>163361.0</td>\n",
       "      <td>14258.0</td>\n",
       "      <td>54391.0</td>\n",
       "    </tr>\n",
       "    <tr>\n",
       "      <th>2</th>\n",
       "      <td>http://api.censusreporter.org/1.0/data/show/la...</td>\n",
       "      <td>31000US10500</td>\n",
       "      <td>Albany, GA</td>\n",
       "      <td>34688.0</td>\n",
       "      <td>NaN</td>\n",
       "      <td>9948.0</td>\n",
       "    </tr>\n",
       "    <tr>\n",
       "      <th>3</th>\n",
       "      <td>http://api.censusreporter.org/1.0/data/show/la...</td>\n",
       "      <td>31000US10540</td>\n",
       "      <td>Albany, OR</td>\n",
       "      <td>25334.0</td>\n",
       "      <td>11395.0</td>\n",
       "      <td>9131.0</td>\n",
       "    </tr>\n",
       "    <tr>\n",
       "      <th>4</th>\n",
       "      <td>http://api.censusreporter.org/1.0/data/show/la...</td>\n",
       "      <td>31000US10580</td>\n",
       "      <td>Albany-Schenectady-Troy, NY</td>\n",
       "      <td>211611.0</td>\n",
       "      <td>45781.0</td>\n",
       "      <td>56946.0</td>\n",
       "    </tr>\n",
       "  </tbody>\n",
       "</table>\n",
       "</div>"
      ],
      "text/plain": [
       "                                                 url           geo  \\\n",
       "0  http://api.censusreporter.org/1.0/data/show/la...  31000US10180   \n",
       "1  http://api.censusreporter.org/1.0/data/show/la...  31000US10420   \n",
       "2  http://api.censusreporter.org/1.0/data/show/la...  31000US10500   \n",
       "3  http://api.censusreporter.org/1.0/data/show/la...  31000US10540   \n",
       "4  http://api.censusreporter.org/1.0/data/show/la...  31000US10580   \n",
       "\n",
       "                          name       age     race   income  \n",
       "0                  Abilene, TX   47469.0  41291.0  11050.0  \n",
       "1                    Akron, OH  163361.0  14258.0  54391.0  \n",
       "2                   Albany, GA   34688.0      NaN   9948.0  \n",
       "3                   Albany, OR   25334.0  11395.0   9131.0  \n",
       "4  Albany-Schenectady-Troy, NY  211611.0  45781.0  56946.0  "
      ]
     },
     "execution_count": 19,
     "metadata": {},
     "output_type": "execute_result"
    }
   ],
   "source": [
    "# create dataframe for final data\n",
    "fulldf = pd.DataFrame()\n",
    "fulldf['url'] = url_list\n",
    "fulldf['geo'] = geoid\n",
    "fulldf['name'] = df['NAME']\n",
    "\n",
    "# add new lists to full dataframe\n",
    "fulldf['age'] = age\n",
    "fulldf['race'] = race\n",
    "fulldf['income'] = income\n",
    "\n",
    "fulldf.head()"
   ]
  },
  {
   "cell_type": "code",
   "execution_count": 23,
   "metadata": {},
   "outputs": [
    {
     "data": {
      "text/plain": [
       "url       http://api.censusreporter.org/1.0/data/show/la...\n",
       "geo                                            31000US35620\n",
       "name                  New York-Newark-Jersey City, NY-NJ-PA\n",
       "age                                             4.80694e+06\n",
       "race                                             4.9944e+06\n",
       "income                                          1.03819e+06\n",
       "Name: 249, dtype: object"
      ]
     },
     "execution_count": 23,
     "metadata": {},
     "output_type": "execute_result"
    }
   ],
   "source": [
    "# Question 1\n",
    "# return metro area with most 50k-75k households\n",
    "fulldf.loc[ fulldf['income'].idxmax() ]"
   ]
  },
  {
   "cell_type": "code",
   "execution_count": 24,
   "metadata": {},
   "outputs": [
    {
     "name": "stdout",
     "output_type": "stream",
     "text": [
      "Max Income\n",
      "1038188.0\n"
     ]
    }
   ],
   "source": [
    "max_income = fulldf['income'].max()\n",
    "print( 'Max Income' )\n",
    "print( max_income )"
   ]
  },
  {
   "cell_type": "code",
   "execution_count": 25,
   "metadata": {},
   "outputs": [
    {
     "data": {
      "text/plain": [
       "url       http://api.censusreporter.org/1.0/data/show/la...\n",
       "geo                                            31000US35620\n",
       "name                  New York-Newark-Jersey City, NY-NJ-PA\n",
       "age                                             4.80694e+06\n",
       "race                                             4.9944e+06\n",
       "income                                          1.03819e+06\n",
       "Name: 249, dtype: object"
      ]
     },
     "execution_count": 25,
     "metadata": {},
     "output_type": "execute_result"
    }
   ],
   "source": [
    "# Question 2\n",
    "# return metro area with most people age 18-34\n",
    "fulldf.loc[ fulldf['age'].idxmax() ]"
   ]
  },
  {
   "cell_type": "code",
   "execution_count": 26,
   "metadata": {},
   "outputs": [
    {
     "name": "stdout",
     "output_type": "stream",
     "text": [
      "Max Age\n",
      "4806939.0\n"
     ]
    }
   ],
   "source": [
    "max_age = fulldf['age'].max()\n",
    "print( 'Max Age' )\n",
    "print( max_age )"
   ]
  },
  {
   "cell_type": "code",
   "execution_count": 27,
   "metadata": {},
   "outputs": [
    {
     "data": {
      "text/plain": [
       "url       http://api.censusreporter.org/1.0/data/show/la...\n",
       "geo                                            31000US31080\n",
       "name                     Los Angeles-Long Beach-Anaheim, CA\n",
       "age                                             3.38111e+06\n",
       "race                                            6.03149e+06\n",
       "income                                               708153\n",
       "Name: 210, dtype: object"
      ]
     },
     "execution_count": 27,
     "metadata": {},
     "output_type": "execute_result"
    }
   ],
   "source": [
    "# Question 3\n",
    "# return metro area with largest hispanic population\n",
    "fulldf.loc[ fulldf['race'].idxmax() ]"
   ]
  },
  {
   "cell_type": "code",
   "execution_count": 28,
   "metadata": {},
   "outputs": [
    {
     "name": "stdout",
     "output_type": "stream",
     "text": [
      "Max Race\n",
      "6031492.0\n"
     ]
    }
   ],
   "source": [
    "max_race = fulldf['race'].max()\n",
    "print( 'Max Race' )\n",
    "print( max_race )"
   ]
  },
  {
   "cell_type": "code",
   "execution_count": 29,
   "metadata": {},
   "outputs": [],
   "source": [
    "# Question 4\n",
    "# find metro area with highest average percentage\n",
    "# create percentages for each parameter\n",
    "fulldf['age_per'] = fulldf['age'] / max_age * 100\n",
    "fulldf['race_per'] = fulldf['race'] / max_race * 100\n",
    "fulldf['income_per'] = fulldf['income'] / max_income * 100\n",
    "\n",
    "# average all three percentages\n",
    "fulldf['avg_per'] = ( fulldf['age_per'] + fulldf['race_per'] + fulldf['income_per'] ) / 3"
   ]
  },
  {
   "cell_type": "code",
   "execution_count": 30,
   "metadata": {},
   "outputs": [
    {
     "data": {
      "text/plain": [
       "url           http://api.censusreporter.org/1.0/data/show/la...\n",
       "geo                                                31000US35620\n",
       "name                      New York-Newark-Jersey City, NY-NJ-PA\n",
       "age                                                 4.80694e+06\n",
       "race                                                 4.9944e+06\n",
       "income                                              1.03819e+06\n",
       "age_per                                                     100\n",
       "race_per                                                82.8053\n",
       "income_per                                                  100\n",
       "avg_per                                                 94.2684\n",
       "Name: 249, dtype: object"
      ]
     },
     "execution_count": 30,
     "metadata": {},
     "output_type": "execute_result"
    }
   ],
   "source": [
    "# return highest average percentage\n",
    "fulldf.loc[ fulldf['avg_per'].idxmax() ]"
   ]
  },
  {
   "cell_type": "code",
   "execution_count": 31,
   "metadata": {},
   "outputs": [
    {
     "name": "stdout",
     "output_type": "stream",
     "text": [
      "Max Average\n",
      "94.26843308421864\n"
     ]
    }
   ],
   "source": [
    "max_avg = fulldf['avg_per'].max()\n",
    "print( 'Max Average' )\n",
    "print( max_avg )"
   ]
  },
  {
   "cell_type": "code",
   "execution_count": null,
   "metadata": {},
   "outputs": [],
   "source": []
  }
 ],
 "metadata": {
  "kernelspec": {
   "display_name": "Python 3",
   "language": "python",
   "name": "python3"
  },
  "language_info": {
   "codemirror_mode": {
    "name": "ipython",
    "version": 3
   },
   "file_extension": ".py",
   "mimetype": "text/x-python",
   "name": "python",
   "nbconvert_exporter": "python",
   "pygments_lexer": "ipython3",
   "version": "3.6.5"
  }
 },
 "nbformat": 4,
 "nbformat_minor": 2
}
